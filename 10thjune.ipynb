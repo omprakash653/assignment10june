{
 "cells": [
  {
   "cell_type": "markdown",
   "id": "e32aa775",
   "metadata": {},
   "source": [
    "# Ans1"
   ]
  },
  {
   "cell_type": "code",
   "execution_count": 2,
   "id": "2f52bf91",
   "metadata": {},
   "outputs": [
    {
     "name": "stdout",
     "output_type": "stream",
     "text": [
      "123\n",
      "21\n",
      "a + b = 99\n"
     ]
    }
   ],
   "source": [
    "# Built-in Function - These are pre-defined functions in Python. They are easy to execute. For \n",
    "# example:-\n",
    "print(123)\n",
    "print(len('My Name is Vaishnavee'))\n",
    "\n",
    "# User-defined Function - These functions are defined by the programmer to customise the \n",
    "# output. To create user-defined functions, ‘def’ keyword is used.\n",
    "# Example of user-defined function:-\n",
    "def sum():\n",
    " a= 56\n",
    " b= 43\n",
    " s=a+b\n",
    " print('a + b =',s)\n",
    "sum()"
   ]
  },
  {
   "cell_type": "markdown",
   "id": "c92e865f",
   "metadata": {},
   "source": [
    "# Ans2"
   ]
  },
  {
   "cell_type": "code",
   "execution_count": 6,
   "id": "c6d5b9ff",
   "metadata": {},
   "outputs": [
    {
     "name": "stdout",
     "output_type": "stream",
     "text": [
      "om\n",
      "36\n",
      "36\n"
     ]
    }
   ],
   "source": [
    "# Arguments are present inside the parentheses of function. We can pass as many arguments \n",
    "# in the parentheses separated by comma. \n",
    "# To pass the argument:-\n",
    "def function(name): #name is the argument\n",
    "  print(name)\n",
    "function(\"om\")\n",
    "\n",
    "# Positional Argument - In these type of argument, the arguments are passed in order. The \n",
    "# position of arguments are important in this type.\n",
    "# Keyword Argument - These arguments does not require to be passed in order. To pass a \n",
    "# keyword argument, the func2on is followed by the keyword (variable) with equal to sign. \n",
    "# function(keyword=value)\n",
    "# In conclusion, a keyword argument is a positional argument with a default value.\n",
    "# Example:-\n",
    "def rectangle(width, length):\n",
    " return width * length\n",
    " \n",
    "print(rectangle(width=4, length=9)) #keyword argument\n",
    "print(rectangle(4,9)) #posi2onal argumen"
   ]
  },
  {
   "cell_type": "markdown",
   "id": "9f7660cf",
   "metadata": {},
   "source": [
    "# Ans3"
   ]
  },
  {
   "cell_type": "code",
   "execution_count": 9,
   "id": "1967ba59",
   "metadata": {},
   "outputs": [
    {
     "name": "stdout",
     "output_type": "stream",
     "text": [
      "odd\n"
     ]
    }
   ],
   "source": [
    "# To execute a function, return statement is used.\n",
    "# Yes, a function can have mul.ple return statements. For example:\n",
    "def input(i):\n",
    " if i%2==0:\n",
    "   return 'even'\n",
    " else:\n",
    "   return 'odd'\n",
    "result = input(7)\n",
    "print(result)"
   ]
  },
  {
   "cell_type": "markdown",
   "id": "135b5016",
   "metadata": {},
   "source": [
    "# Ans4"
   ]
  },
  {
   "cell_type": "code",
   "execution_count": 11,
   "id": "f4304e9b",
   "metadata": {},
   "outputs": [
    {
     "name": "stdout",
     "output_type": "stream",
     "text": [
      "10.5\n",
      "7\n",
      "7\n"
     ]
    }
   ],
   "source": [
    "# A lambda func.on is referred as anonymous func.on. A lambda func.on can take \n",
    "# any number of arguments, but can only have one expression.\n",
    "# For example:\n",
    "# lambda argument: expression\n",
    "\n",
    "a=lambda x,y:x+y\n",
    "print(a(4.5,6))\n",
    "\n",
    "# Differences between Lambda func.ons and Regular func.ons:\n",
    "# Lambda func.ons are wriRen in a single line of code, while regular func.ons \n",
    "# defined with def and can have mul.ple lines. \n",
    "# Lambda func.ons do not have a name (anonymous func.on), whereas regular \n",
    "# func.ons defined with def have a func.on name. \n",
    "# Lambda func.ons automa.cally return the result of the expression without the \n",
    "# return statement, while regular func.ons defined with def require a return \n",
    "# statement to return a value. \n",
    "# Lambda func.ons are used for filtering, mapping, or reducing data. Regular \n",
    "# func.ons can be used for control statements, error handling and complex \n",
    "# opera.ons.\n",
    "# Examples of both Lambda func.ons and Regular func.ons:\n",
    "\n",
    "add = lambda x, y: x + y \n",
    "print(add(4, 3)) \n",
    "def add_def(x, y): \n",
    " return x + y \n",
    "print(add_def(4, 3))"
   ]
  },
  {
   "cell_type": "markdown",
   "id": "e79e72e7",
   "metadata": {},
   "source": [
    "# Ans5"
   ]
  },
  {
   "cell_type": "code",
   "execution_count": 12,
   "id": "40758130",
   "metadata": {},
   "outputs": [
    {
     "name": "stdout",
     "output_type": "stream",
     "text": [
      "Hey John\n",
      "Hey\n",
      "Hey\n",
      "Hey\n",
      "300\n"
     ]
    }
   ],
   "source": [
    "# There are two types of scope in Python: -\n",
    "# Global scope refers to the names of variables which are defined in the main body of \n",
    "# a program. These are visible and accessed throughout the program.\n",
    "\n",
    "x='Hey' \n",
    "def func():\n",
    " print(f'{x} John') \n",
    " print(x)\n",
    "func()\n",
    "\n",
    "# Global scope can also be defined inside the function using global keyword.\n",
    "\n",
    "x='Hey' \n",
    "def func():\n",
    " global x #Global x=200\n",
    " print(x)\n",
    "print(x) \n",
    "func()\n",
    "\n",
    "# Local scope refers to the names which are defined within a func.on and are local to \n",
    "# that function. They can be accessed from the point of its defini.on un.l the end of \n",
    "# the block in which it has been defined. \n",
    "\n",
    "def sum(): \n",
    " y=100 \n",
    " x=200\n",
    " print(x+y) \n",
    "sum()"
   ]
  },
  {
   "cell_type": "markdown",
   "id": "cf6698bd",
   "metadata": {},
   "source": [
    "# Ans6"
   ]
  },
  {
   "cell_type": "code",
   "execution_count": 13,
   "id": "f1ffbb6c",
   "metadata": {},
   "outputs": [
    {
     "name": "stdout",
     "output_type": "stream",
     "text": [
      "7 January 2001\n"
     ]
    }
   ],
   "source": [
    "# To return multiple values in the return statement, values are separated with \n",
    "# comma. For example:\n",
    "\n",
    "def dob():\n",
    " date = 7\n",
    " month = \"January\"\n",
    " year = 2001\n",
    " \n",
    " return date, month, year\n",
    "date, month, year= dob() \n",
    "print(date, month, year)"
   ]
  },
  {
   "cell_type": "markdown",
   "id": "6c5b4350",
   "metadata": {},
   "source": [
    "# Ans7"
   ]
  },
  {
   "cell_type": "code",
   "execution_count": 30,
   "id": "bd452bad",
   "metadata": {},
   "outputs": [
    {
     "name": "stdout",
     "output_type": "stream",
     "text": [
      "Before function call  4\n",
      "Inside function call  10\n",
      "Acer function call  4\n",
      "Before function call ['orange']\n",
      "Inside function call ['orange', 'apple']\n",
      "Acer function call ['orange', 'apple']\n"
     ]
    }
   ],
   "source": [
    "# Pass by Call\n",
    "# In this method, the opera.on performed outside the func.on will not have any \n",
    "# effect on original value. The original value is only affected by opera.ons performed \n",
    "# within the function. For example: \n",
    "    \n",
    "def function(int):\n",
    " int+=6\n",
    " print(\"Inside function call \",int)\n",
    "int=4\n",
    "print(\"Before function call \",int)\n",
    "function(int)\n",
    "print(\"Acer function call \",int)\n",
    "\n",
    "# The value of int is not changed before and acer the func.on call, only within the \n",
    "# func.on.\n",
    "# Pass by Reference\n",
    "# This method passes a reference to the original arguments, that is if any opera.on \n",
    "# performed on the original value will change it. It alters the original value in both \n",
    "# func.on and outside the func.on. For example:\n",
    "def function(fruits):\n",
    " fruits.append('apple') \n",
    " print(\"Inside function call\",fruits)\n",
    " \n",
    "fruits=['orange']\n",
    "print(\"Before function call\",fruits)\n",
    "function(fruits)\n",
    "print(\"Acer function call\",fruits)\n",
    "# The value of fruits is changed inside and acer the function call.\n"
   ]
  },
  {
   "cell_type": "markdown",
   "id": "c056e0e4",
   "metadata": {},
   "source": [
    "# Ans8"
   ]
  },
  {
   "cell_type": "code",
   "execution_count": 31,
   "id": "0aca3e4c",
   "metadata": {},
   "outputs": [
    {
     "name": "stdout",
     "output_type": "stream",
     "text": [
      "2.1972245773362196\n",
      "1096.6331584284585\n",
      "512.0\n",
      "2.6457513110645907\n"
     ]
    }
   ],
   "source": [
    "# 8. Opera.ons:\n",
    "# a. Logarithmic function (log x)\n",
    "\n",
    "import math\n",
    "\n",
    "print(math.log(9))\n",
    "\n",
    "# b. Exponential function (exp(x))\n",
    "import math\n",
    "\n",
    "print(math.exp(7))\n",
    "\n",
    "# c. Power func2on with base 2 (2x)\n",
    "import math\n",
    "\n",
    "print(math.pow(2, 9))\n",
    "\n",
    "# d. Square root\n",
    "import math\n",
    "\n",
    "print(math.sqrt(7))"
   ]
  },
  {
   "cell_type": "markdown",
   "id": "00fbefc3",
   "metadata": {},
   "source": [
    "# Ans9"
   ]
  },
  {
   "cell_type": "code",
   "execution_count": 35,
   "id": "264dbeda",
   "metadata": {},
   "outputs": [
    {
     "name": "stdout",
     "output_type": "stream",
     "text": [
      "First Name: Enter \n",
      " Last Name: Name:\n"
     ]
    }
   ],
   "source": [
    "# We can use regular expression to return first and last name:-\n",
    "import re\n",
    "def name(s):\n",
    " initials = re.findall(r'\\b\\w', s)\n",
    " first_name = s.split()[0]\n",
    " last_name = s.split()[-1]\n",
    " fullname = (f'First Name: {first_name.title()} \\n Last Name: {last_name.title()}')\n",
    " return fullname\n",
    "s = \"Enter First and Last Name: \"\n",
    "print(name(s))"
   ]
  },
  {
   "cell_type": "code",
   "execution_count": null,
   "id": "d4b4f53f",
   "metadata": {},
   "outputs": [],
   "source": []
  }
 ],
 "metadata": {
  "kernelspec": {
   "display_name": "Python 3 (ipykernel)",
   "language": "python",
   "name": "python3"
  },
  "language_info": {
   "codemirror_mode": {
    "name": "ipython",
    "version": 3
   },
   "file_extension": ".py",
   "mimetype": "text/x-python",
   "name": "python",
   "nbconvert_exporter": "python",
   "pygments_lexer": "ipython3",
   "version": "3.11.1"
  }
 },
 "nbformat": 4,
 "nbformat_minor": 5
}
